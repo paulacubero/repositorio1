{
 "cells": [
  {
   "cell_type": "markdown",
   "id": "bd4dbbc7",
   "metadata": {},
   "source": [
    "# Anaconda librerias "
   ]
  },
  {
   "cell_type": "markdown",
   "id": "957c24a2",
   "metadata": {},
   "source": [
    "## pandas"
   ]
  },
  {
   "cell_type": "code",
   "execution_count": 4,
   "id": "e744032c",
   "metadata": {},
   "outputs": [
    {
     "data": {
      "text/html": [
       "<div>\n",
       "<style scoped>\n",
       "    .dataframe tbody tr th:only-of-type {\n",
       "        vertical-align: middle;\n",
       "    }\n",
       "\n",
       "    .dataframe tbody tr th {\n",
       "        vertical-align: top;\n",
       "    }\n",
       "\n",
       "    .dataframe thead th {\n",
       "        text-align: right;\n",
       "    }\n",
       "</style>\n",
       "<table border=\"1\" class=\"dataframe\">\n",
       "  <thead>\n",
       "    <tr style=\"text-align: right;\">\n",
       "      <th></th>\n",
       "      <th>ID_EQUIPO</th>\n",
       "      <th>ID_TIPO_EQUIPO</th>\n",
       "      <th>UBICACION</th>\n",
       "      <th>FECHA_INSTALACION</th>\n",
       "      <th>FECHA_CONSULTA</th>\n",
       "    </tr>\n",
       "  </thead>\n",
       "  <tbody>\n",
       "    <tr>\n",
       "      <th>0</th>\n",
       "      <td>2020018163</td>\n",
       "      <td>RMDT</td>\n",
       "      <td>362</td>\n",
       "      <td>14/07/22</td>\n",
       "      <td>08/11/22</td>\n",
       "    </tr>\n",
       "    <tr>\n",
       "      <th>1</th>\n",
       "      <td>2020018185</td>\n",
       "      <td>RMDT</td>\n",
       "      <td>351</td>\n",
       "      <td>20/06/22</td>\n",
       "      <td>08/11/22</td>\n",
       "    </tr>\n",
       "    <tr>\n",
       "      <th>2</th>\n",
       "      <td>2020018194</td>\n",
       "      <td>RMDT</td>\n",
       "      <td>356</td>\n",
       "      <td>20/06/22</td>\n",
       "      <td>08/11/22</td>\n",
       "    </tr>\n",
       "    <tr>\n",
       "      <th>3</th>\n",
       "      <td>2020018197</td>\n",
       "      <td>RMDT</td>\n",
       "      <td>326</td>\n",
       "      <td>20/06/22</td>\n",
       "      <td>08/11/22</td>\n",
       "    </tr>\n",
       "    <tr>\n",
       "      <th>4</th>\n",
       "      <td>2020018217</td>\n",
       "      <td>RMDT</td>\n",
       "      <td>340</td>\n",
       "      <td>20/06/22</td>\n",
       "      <td>08/11/22</td>\n",
       "    </tr>\n",
       "  </tbody>\n",
       "</table>\n",
       "</div>"
      ],
      "text/plain": [
       "    ID_EQUIPO ID_TIPO_EQUIPO UBICACION FECHA_INSTALACION FECHA_CONSULTA\n",
       "0  2020018163           RMDT       362          14/07/22       08/11/22\n",
       "1  2020018185           RMDT       351          20/06/22       08/11/22\n",
       "2  2020018194           RMDT       356          20/06/22       08/11/22\n",
       "3  2020018197           RMDT       326          20/06/22       08/11/22\n",
       "4  2020018217           RMDT       340          20/06/22       08/11/22"
      ]
     },
     "execution_count": 4,
     "metadata": {},
     "output_type": "execute_result"
    }
   ],
   "source": [
    "import pandas as pd\n",
    "titanic=pd.read_csv('datos.csv')\n",
    "titanic.head()"
   ]
  },
  {
   "cell_type": "markdown",
   "id": "adb990ab",
   "metadata": {},
   "source": [
    "## Numpy"
   ]
  },
  {
   "cell_type": "code",
   "execution_count": 12,
   "id": "ff94559d",
   "metadata": {},
   "outputs": [
    {
     "data": {
      "text/html": [
       "<div>\n",
       "<style scoped>\n",
       "    .dataframe tbody tr th:only-of-type {\n",
       "        vertical-align: middle;\n",
       "    }\n",
       "\n",
       "    .dataframe tbody tr th {\n",
       "        vertical-align: top;\n",
       "    }\n",
       "\n",
       "    .dataframe thead th {\n",
       "        text-align: right;\n",
       "    }\n",
       "</style>\n",
       "<table border=\"1\" class=\"dataframe\">\n",
       "  <thead>\n",
       "    <tr style=\"text-align: right;\">\n",
       "      <th></th>\n",
       "      <th>0</th>\n",
       "      <th>1</th>\n",
       "      <th>2</th>\n",
       "    </tr>\n",
       "  </thead>\n",
       "  <tbody>\n",
       "    <tr>\n",
       "      <th>0</th>\n",
       "      <td>1</td>\n",
       "      <td>3</td>\n",
       "      <td>5</td>\n",
       "    </tr>\n",
       "    <tr>\n",
       "      <th>1</th>\n",
       "      <td>2</td>\n",
       "      <td>4</td>\n",
       "      <td>6</td>\n",
       "    </tr>\n",
       "    <tr>\n",
       "      <th>2</th>\n",
       "      <td>10</td>\n",
       "      <td>11</td>\n",
       "      <td>12</td>\n",
       "    </tr>\n",
       "  </tbody>\n",
       "</table>\n",
       "</div>"
      ],
      "text/plain": [
       "    0   1   2\n",
       "0   1   3   5\n",
       "1   2   4   6\n",
       "2  10  11  12"
      ]
     },
     "execution_count": 12,
     "metadata": {},
     "output_type": "execute_result"
    }
   ],
   "source": [
    "import numpy as np\n",
    "import pandas as pd\n",
    "unidades_datos=np.array([[1,3,5],[2,4,6],[10,11,12]])\n",
    "unidades_datos\n",
    "unidades=pd.DataFrame(unidades_datos) #Dataframe es un método de pandas\n",
    "unidades"
   ]
  },
  {
   "cell_type": "markdown",
   "id": "1b6fbb72",
   "metadata": {},
   "source": [
    "# Matplotlib\n",
    "intenta mostrar en un grafico unos datos"
   ]
  },
  {
   "cell_type": "code",
   "execution_count": 15,
   "id": "ff5a910d",
   "metadata": {
    "scrolled": true
   },
   "outputs": [
    {
     "data": {
      "text/plain": [
       "[<matplotlib.lines.Line2D at 0x213744b63d0>]"
      ]
     },
     "execution_count": 15,
     "metadata": {},
     "output_type": "execute_result"
    },
    {
     "data": {
      "image/png": "[encoded data removed]",
      "text/plain": [
       "<Figure size 640x480 with 1 Axes>"
      ]
     },
     "metadata": {},
     "output_type": "display_data"
    }
   ],
   "source": [
    "import matplotlib as mpl\n",
    "import matplotlib.pyplot as plt\n",
    "\n",
    "fig,ax = plt.subplots()\n",
    "ax.plot ([10,20,30,40],[20,15,30,40])"
   ]
  },
  {
   "cell_type": "markdown",
   "id": "660453b4",
   "metadata": {},
   "source": [
    "# Reto"
   ]
  },
  {
   "cell_type": "markdown",
   "id": "a3843936",
   "metadata": {},
   "source": [
    "Te pide una frase y tu muestras las palabras ordenadas alfabeticamente en mayuscula. Gana quien lo haga en menos lineas."
   ]
  },
  {
   "cell_type": "code",
   "execution_count": 23,
   "id": "5f467b39",
   "metadata": {},
   "outputs": [
    {
     "name": "stdout",
     "output_type": "stream",
     "text": [
      "dime una frase me llamo paula\n"
     ]
    },
    {
     "data": {
      "text/plain": [
       "['LLAMO', 'ME', 'PAULA']"
      ]
     },
     "execution_count": 23,
     "metadata": {},
     "output_type": "execute_result"
    }
   ],
   "source": [
    "frase=input('dime una frase ')\n",
    "#split, upper, sort... todo a la vez y lo muestras\n",
    "sorted(frase.upper().split(sep=' '))"
   ]
  }
 ],
 "metadata": {
  "kernelspec": {
   "display_name": "Python 3 (ipykernel)",
   "language": "python",
   "name": "python3"
  },
  "language_info": {
   "codemirror_mode": {
    "name": "ipython",
    "version": 3
   },
   "file_extension": ".py",
   "mimetype": "text/x-python",
   "name": "python",
   "nbconvert_exporter": "python",
   "pygments_lexer": "ipython3",
   "version": "3.9.13"
  }
 },
 "nbformat": 4,
 "nbformat_minor": 5
}
